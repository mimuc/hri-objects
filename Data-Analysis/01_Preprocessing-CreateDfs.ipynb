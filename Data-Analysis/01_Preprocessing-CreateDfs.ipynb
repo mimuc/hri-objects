{
 "cells": [
  {
   "cell_type": "code",
   "execution_count": 37,
   "metadata": {},
   "outputs": [],
   "source": [
    "import os\n",
    "import pandas as pd\n",
    "import numpy as np\n",
    "import math\n",
    "import scipy.stats\n",
    "import matplotlib.pyplot as plt\n",
    "from pathlib import Path\n",
    "import pingouin as pg\n",
    "\n",
    "itemNameCols = [f\"itemName{i}\" for i in range(0,10)]\n",
    "itemCols = [f\"item{i}\" for i in range(0,10)]\n"
   ]
  },
  {
   "cell_type": "code",
   "execution_count": 38,
   "metadata": {},
   "outputs": [
    {
     "data": {
      "text/html": [
       "<div>\n",
       "<style scoped>\n",
       "    .dataframe tbody tr th:only-of-type {\n",
       "        vertical-align: middle;\n",
       "    }\n",
       "\n",
       "    .dataframe tbody tr th {\n",
       "        vertical-align: top;\n",
       "    }\n",
       "\n",
       "    .dataframe thead th {\n",
       "        text-align: right;\n",
       "    }\n",
       "</style>\n",
       "<table border=\"1\" class=\"dataframe\">\n",
       "  <thead>\n",
       "    <tr style=\"text-align: right;\">\n",
       "      <th></th>\n",
       "      <th>StartDate</th>\n",
       "      <th>EndDate</th>\n",
       "      <th>Progress</th>\n",
       "      <th>Duration (in seconds)</th>\n",
       "      <th>Finished</th>\n",
       "      <th>RecordedDate</th>\n",
       "      <th>UserLanguage</th>\n",
       "      <th>consent</th>\n",
       "      <th>timing_consent_First Click</th>\n",
       "      <th>timing_consent_Last Click</th>\n",
       "      <th>...</th>\n",
       "      <th>SexP</th>\n",
       "      <th>Ethnicity simplified</th>\n",
       "      <th>Country of birth</th>\n",
       "      <th>Country of residence</th>\n",
       "      <th>Nationality</th>\n",
       "      <th>Language</th>\n",
       "      <th>StudentStatus</th>\n",
       "      <th>Employment status</th>\n",
       "      <th>ContinentOfBirth</th>\n",
       "      <th>ContinentOfResidence</th>\n",
       "    </tr>\n",
       "  </thead>\n",
       "  <tbody>\n",
       "    <tr>\n",
       "      <th>0</th>\n",
       "      <td>2022-10-24 04:15:34</td>\n",
       "      <td>2022-10-24 04:20:30</td>\n",
       "      <td>100</td>\n",
       "      <td>295</td>\n",
       "      <td>True</td>\n",
       "      <td>2022-10-24 04:20:31</td>\n",
       "      <td>EN</td>\n",
       "      <td>Yes, I understand the explanation provided to ...</td>\n",
       "      <td>13.998</td>\n",
       "      <td>13.998</td>\n",
       "      <td>...</td>\n",
       "      <td>Male</td>\n",
       "      <td>White</td>\n",
       "      <td>Poland</td>\n",
       "      <td>Poland</td>\n",
       "      <td>Poland</td>\n",
       "      <td>Polish</td>\n",
       "      <td>No</td>\n",
       "      <td>Part-Time</td>\n",
       "      <td>Europe</td>\n",
       "      <td>Europe</td>\n",
       "    </tr>\n",
       "    <tr>\n",
       "      <th>1</th>\n",
       "      <td>2022-10-24 04:15:43</td>\n",
       "      <td>2022-10-24 04:20:31</td>\n",
       "      <td>100</td>\n",
       "      <td>288</td>\n",
       "      <td>True</td>\n",
       "      <td>2022-10-24 04:20:33</td>\n",
       "      <td>EN</td>\n",
       "      <td>Yes, I understand the explanation provided to ...</td>\n",
       "      <td>0.996</td>\n",
       "      <td>12.628</td>\n",
       "      <td>...</td>\n",
       "      <td>Female</td>\n",
       "      <td>White</td>\n",
       "      <td>Poland</td>\n",
       "      <td>Poland</td>\n",
       "      <td>Poland</td>\n",
       "      <td>Polish</td>\n",
       "      <td>No</td>\n",
       "      <td>Full-Time</td>\n",
       "      <td>Europe</td>\n",
       "      <td>Europe</td>\n",
       "    </tr>\n",
       "    <tr>\n",
       "      <th>2</th>\n",
       "      <td>2022-10-24 04:15:52</td>\n",
       "      <td>2022-10-24 04:20:38</td>\n",
       "      <td>100</td>\n",
       "      <td>285</td>\n",
       "      <td>True</td>\n",
       "      <td>2022-10-24 04:20:39</td>\n",
       "      <td>EN</td>\n",
       "      <td>Yes, I understand the explanation provided to ...</td>\n",
       "      <td>5.905</td>\n",
       "      <td>8.771</td>\n",
       "      <td>...</td>\n",
       "      <td>Male</td>\n",
       "      <td>White</td>\n",
       "      <td>Italy</td>\n",
       "      <td>Italy</td>\n",
       "      <td>Italy</td>\n",
       "      <td>Italian</td>\n",
       "      <td>Yes</td>\n",
       "      <td>Other</td>\n",
       "      <td>Europe</td>\n",
       "      <td>Europe</td>\n",
       "    </tr>\n",
       "    <tr>\n",
       "      <th>3</th>\n",
       "      <td>2022-10-24 04:16:12</td>\n",
       "      <td>2022-10-24 04:21:23</td>\n",
       "      <td>100</td>\n",
       "      <td>310</td>\n",
       "      <td>True</td>\n",
       "      <td>2022-10-24 04:21:23</td>\n",
       "      <td>EN</td>\n",
       "      <td>Yes, I understand the explanation provided to ...</td>\n",
       "      <td>26.298</td>\n",
       "      <td>33.000</td>\n",
       "      <td>...</td>\n",
       "      <td>Male</td>\n",
       "      <td>White</td>\n",
       "      <td>Portugal</td>\n",
       "      <td>Portugal</td>\n",
       "      <td>Portugal</td>\n",
       "      <td>Portuguese</td>\n",
       "      <td>Yes</td>\n",
       "      <td>Other</td>\n",
       "      <td>Europe</td>\n",
       "      <td>Europe</td>\n",
       "    </tr>\n",
       "    <tr>\n",
       "      <th>4</th>\n",
       "      <td>2022-10-24 04:15:19</td>\n",
       "      <td>2022-10-24 04:21:53</td>\n",
       "      <td>100</td>\n",
       "      <td>393</td>\n",
       "      <td>True</td>\n",
       "      <td>2022-10-24 04:21:54</td>\n",
       "      <td>EN</td>\n",
       "      <td>Yes, I understand the explanation provided to ...</td>\n",
       "      <td>6.241</td>\n",
       "      <td>7.295</td>\n",
       "      <td>...</td>\n",
       "      <td>Female</td>\n",
       "      <td>White</td>\n",
       "      <td>Poland</td>\n",
       "      <td>Poland</td>\n",
       "      <td>Poland</td>\n",
       "      <td>Polish</td>\n",
       "      <td>Yes</td>\n",
       "      <td>Part-Time</td>\n",
       "      <td>Europe</td>\n",
       "      <td>Europe</td>\n",
       "    </tr>\n",
       "  </tbody>\n",
       "</table>\n",
       "<p>5 rows × 255 columns</p>\n",
       "</div>"
      ],
      "text/plain": [
       "             StartDate              EndDate  Progress  Duration (in seconds)  \\\n",
       "0  2022-10-24 04:15:34  2022-10-24 04:20:30       100                    295   \n",
       "1  2022-10-24 04:15:43  2022-10-24 04:20:31       100                    288   \n",
       "2  2022-10-24 04:15:52  2022-10-24 04:20:38       100                    285   \n",
       "3  2022-10-24 04:16:12  2022-10-24 04:21:23       100                    310   \n",
       "4  2022-10-24 04:15:19  2022-10-24 04:21:53       100                    393   \n",
       "\n",
       "   Finished         RecordedDate UserLanguage  \\\n",
       "0      True  2022-10-24 04:20:31           EN   \n",
       "1      True  2022-10-24 04:20:33           EN   \n",
       "2      True  2022-10-24 04:20:39           EN   \n",
       "3      True  2022-10-24 04:21:23           EN   \n",
       "4      True  2022-10-24 04:21:54           EN   \n",
       "\n",
       "                                             consent  \\\n",
       "0  Yes, I understand the explanation provided to ...   \n",
       "1  Yes, I understand the explanation provided to ...   \n",
       "2  Yes, I understand the explanation provided to ...   \n",
       "3  Yes, I understand the explanation provided to ...   \n",
       "4  Yes, I understand the explanation provided to ...   \n",
       "\n",
       "   timing_consent_First Click  timing_consent_Last Click  ...    SexP  \\\n",
       "0                      13.998                     13.998  ...    Male   \n",
       "1                       0.996                     12.628  ...  Female   \n",
       "2                       5.905                      8.771  ...    Male   \n",
       "3                      26.298                     33.000  ...    Male   \n",
       "4                       6.241                      7.295  ...  Female   \n",
       "\n",
       "   Ethnicity simplified  Country of birth Country of residence Nationality  \\\n",
       "0                 White            Poland               Poland      Poland   \n",
       "1                 White            Poland               Poland      Poland   \n",
       "2                 White             Italy                Italy       Italy   \n",
       "3                 White          Portugal             Portugal    Portugal   \n",
       "4                 White            Poland               Poland      Poland   \n",
       "\n",
       "     Language StudentStatus  Employment status  ContinentOfBirth  \\\n",
       "0      Polish            No          Part-Time            Europe   \n",
       "1      Polish            No          Full-Time            Europe   \n",
       "2     Italian           Yes              Other            Europe   \n",
       "3  Portuguese           Yes              Other            Europe   \n",
       "4      Polish           Yes          Part-Time            Europe   \n",
       "\n",
       "   ContinentOfResidence  \n",
       "0                Europe  \n",
       "1                Europe  \n",
       "2                Europe  \n",
       "3                Europe  \n",
       "4                Europe  \n",
       "\n",
       "[5 rows x 255 columns]"
      ]
     },
     "execution_count": 38,
     "metadata": {},
     "output_type": "execute_result"
    }
   ],
   "source": [
    "df = pd.read_csv(\"./dataframes/surveydata_participants.csv\")\n",
    "df.head()"
   ]
  },
  {
   "cell_type": "markdown",
   "metadata": {},
   "source": [
    "# Quick Stats Overview"
   ]
  },
  {
   "cell_type": "code",
   "execution_count": 39,
   "metadata": {},
   "outputs": [
    {
     "data": {
      "text/plain": [
       "300"
      ]
     },
     "execution_count": 39,
     "metadata": {},
     "output_type": "execute_result"
    }
   ],
   "source": [
    "len(df)"
   ]
  },
  {
   "cell_type": "code",
   "execution_count": 40,
   "metadata": {},
   "outputs": [
    {
     "data": {
      "text/plain": [
       "Europe           50\n",
       "Africa           50\n",
       "North America    50\n",
       "Asia             50\n",
       "South America    50\n",
       "Oceania          50\n",
       "Name: ContinentOfResidence, dtype: int64"
      ]
     },
     "execution_count": 40,
     "metadata": {},
     "output_type": "execute_result"
    }
   ],
   "source": [
    "df[\"ContinentOfResidence\"].value_counts()"
   ]
  },
  {
   "cell_type": "code",
   "execution_count": 41,
   "metadata": {},
   "outputs": [
    {
     "data": {
      "text/plain": [
       "Female                       154\n",
       "Male                         142\n",
       "Non-binary / third gender      4\n",
       "Name: SexS, dtype: int64"
      ]
     },
     "execution_count": 41,
     "metadata": {},
     "output_type": "execute_result"
    }
   ],
   "source": [
    "df.SexS.value_counts()"
   ]
  },
  {
   "cell_type": "code",
   "execution_count": 42,
   "metadata": {},
   "outputs": [
    {
     "data": {
      "text/plain": [
       "count     5.000\n",
       "mean     10.063\n",
       "std       5.996\n",
       "min       3.967\n",
       "25%       6.562\n",
       "50%       8.192\n",
       "75%      11.600\n",
       "max      57.217\n",
       "Name: TimeTaken, dtype: float64"
      ]
     },
     "execution_count": 42,
     "metadata": {},
     "output_type": "execute_result"
    }
   ],
   "source": [
    "(df.TimeTaken.describe()/60).round(3)"
   ]
  },
  {
   "cell_type": "code",
   "execution_count": 43,
   "metadata": {},
   "outputs": [
    {
     "data": {
      "text/plain": [
       "count    300.0\n",
       "mean      32.6\n",
       "std       11.3\n",
       "min       19.0\n",
       "25%       24.8\n",
       "50%       29.0\n",
       "75%       38.0\n",
       "max       73.0\n",
       "Name: AgeS, dtype: float64"
      ]
     },
     "execution_count": 43,
     "metadata": {},
     "output_type": "execute_result"
    }
   ],
   "source": [
    "df.AgeS.describe().round(1)"
   ]
  },
  {
   "cell_type": "code",
   "execution_count": 44,
   "metadata": {},
   "outputs": [
    {
     "data": {
      "text/plain": [
       "Full-Time                                                   175\n",
       "Part-Time                                                    69\n",
       "Other                                                        25\n",
       "Not in paid work (e.g. homemaker', 'retired or disabled)     21\n",
       "Due to start a new job within the next month                  8\n",
       "DATA_EXPIRED                                                  2\n",
       "Name: Employment status, dtype: int64"
      ]
     },
     "execution_count": 44,
     "metadata": {},
     "output_type": "execute_result"
    }
   ],
   "source": [
    "df['Employment status'].value_counts()"
   ]
  },
  {
   "cell_type": "code",
   "execution_count": 45,
   "metadata": {},
   "outputs": [
    {
     "data": {
      "text/plain": [
       "White    156\n",
       "Mixed     53\n",
       "Black     46\n",
       "Other     31\n",
       "Asian     14\n",
       "Name: Ethnicity simplified, dtype: int64"
      ]
     },
     "execution_count": 45,
     "metadata": {},
     "output_type": "execute_result"
    }
   ],
   "source": [
    "df['Ethnicity simplified'].value_counts()"
   ]
  },
  {
   "cell_type": "markdown",
   "metadata": {},
   "source": [
    "# Calculate ATI"
   ]
  },
  {
   "cell_type": "code",
   "execution_count": 46,
   "metadata": {},
   "outputs": [],
   "source": [
    "mapATI = {np.nan:3, 'Completely Disagree': 1, 'Largely Disagree' : 2, 'Slightly Disagree' : 3, 'Slightly Agree': 4, 'Largely Agree' : 5, 'Completely Agree' : 6}\n",
    "for i in range (1,10):\n",
    "    df[f'ATI0{i}'] = df[f'ATI0{i}'].apply(lambda x: mapATI[x])\n",
    "df[\"ATI03R\"] = df.ATI03.apply(lambda x: 7-x)\n",
    "df[\"ATI06R\"] = df.ATI06.apply(lambda x: 7-x)\n",
    "df[\"ATI08R\"] = df.ATI08.apply(lambda x: 7-x)\n",
    "df[\"ATI\"] = (df.ATI01 + df.ATI02 + df.ATI03R + df.ATI04 + df.ATI05 + df.ATI06R + df.ATI07 + df.ATI08R + df.ATI09)/9\n",
    "cronbach_alpha = np.round(pg.cronbach_alpha(data=df[['ATI01', 'ATI02','ATI03R', 'ATI04', 'ATI05', 'ATI06R', 'ATI07', 'ATI08R', 'ATI09']])[0],3)"
   ]
  },
  {
   "cell_type": "code",
   "execution_count": 47,
   "metadata": {},
   "outputs": [
    {
     "name": "stdout",
     "output_type": "stream",
     "text": [
      "ATI-mean: 4.099259259259259, alpha: 0.885\n"
     ]
    }
   ],
   "source": [
    "print(f\"ATI-mean: {df.ATI.mean()}, alpha: {cronbach_alpha}\")"
   ]
  },
  {
   "cell_type": "markdown",
   "metadata": {},
   "source": [
    "# Create Itembased Dataframe "
   ]
  },
  {
   "cell_type": "code",
   "execution_count": 48,
   "metadata": {},
   "outputs": [],
   "source": [
    "data = []\n",
    "for i, row in df.iterrows():\n",
    "    # if i < 2: # skipping first to rows as no responses in there\n",
    "    #     continue\n",
    "    lstItemNames = dict(row[itemNameCols])\n",
    "    lstItems = dict(row[itemCols])\n",
    "    PID = row[\"PID\"]\n",
    "    if ((type(PID) == str)):\n",
    "        # iterate through items to get responses\n",
    "        items = list(lstItemNames.values())\n",
    "        for j in range(1,11):\n",
    "            new_row = {\"PID\": PID, \"ContinentOfResidence\" : row[\"ContinentOfResidence\"]}\n",
    "            new_row[\"Item\"] =  lstItemNames[f'itemName{j-1}']\n",
    "            new_row[\"ItemImage\"] =  lstItems[f'item{j-1}']\n",
    "            new_row[\"Self_Owning\"] = row[f\"{j}_using_self_owning\"]\n",
    "            new_row[\"Self_Familiar\"] = row[f\"{j}_using_self_familiar_1\"]\n",
    "            new_row[\"Self_Danger\"] = row[f\"{j}_using_self_1\"]\n",
    "            new_row[\"Other_Danger\"] = row[f\"{j}_using_other_1\"]\n",
    "            new_row[\"Robot_Danger\"] = row[f\"{j}_using_robot_1\"]\n",
    "            new_row[\"Self_Danger_Time\"] = row[f'{j}_using_self_timing_Page Submit']\n",
    "            new_row[\"Other_Danger_Time\"] = row[f'{j}_using_other_timing_Page Submit']\n",
    "            new_row[\"Robot_Danger_Time\"] = row[f'{j}_using_robot_timing_Page Submit']\n",
    "            data.append(new_row)\n",
    "df_items = pd.DataFrame(data=data)\n",
    "df_items.Item = df_items.Item.str.strip()\n",
    "df_items[\"Self_Familiar\"] = df_items[\"Self_Familiar\"].astype(float)\n",
    "df_items[\"Self_Danger\"] = df_items[\"Self_Danger\"].astype(float)\n",
    "df_items[\"Other_Danger\"] = df_items[\"Other_Danger\"].astype(float)\n",
    "df_items[\"Robot_Danger\"] = df_items[\"Robot_Danger\"].astype(float)\n",
    "\n",
    "\n",
    "df_items[\"Self_Danger_Time\"] = df_items[\"Self_Danger_Time\"].astype(float)\n",
    "df_items[\"Other_Danger_Time\"] = df_items[\"Other_Danger_Time\"].astype(float)\n",
    "df_items[\"Robot_Danger_Time\"] = df_items[\"Robot_Danger_Time\"].astype(float)\n"
   ]
  },
  {
   "cell_type": "code",
   "execution_count": 49,
   "metadata": {},
   "outputs": [
    {
     "name": "stderr",
     "output_type": "stream",
     "text": [
      "C:\\Users\\ra38fep\\AppData\\Local\\Temp\\ipykernel_4700\\2406544429.py:1: FutureWarning: The default value of numeric_only in DataFrameGroupBy.mean is deprecated. In a future version, numeric_only will default to False. Either specify numeric_only or select only columns which should be valid for the function.\n",
      "  df_items.groupby(\"PID\").mean().Self_Danger_Time.hist(range=(0,60), bins=30, alpha=.5)\n",
      "C:\\Users\\ra38fep\\AppData\\Local\\Temp\\ipykernel_4700\\2406544429.py:2: FutureWarning: The default value of numeric_only in DataFrameGroupBy.mean is deprecated. In a future version, numeric_only will default to False. Either specify numeric_only or select only columns which should be valid for the function.\n",
      "  df_items.groupby(\"PID\").mean().Other_Danger_Time.hist(range=(0,60), bins=30, alpha=.5)\n",
      "C:\\Users\\ra38fep\\AppData\\Local\\Temp\\ipykernel_4700\\2406544429.py:3: FutureWarning: The default value of numeric_only in DataFrameGroupBy.mean is deprecated. In a future version, numeric_only will default to False. Either specify numeric_only or select only columns which should be valid for the function.\n",
      "  df_items.groupby(\"PID\").mean().Robot_Danger_Time.hist(range=(0,60), bins=30, alpha=.5)\n"
     ]
    },
    {
     "data": {
      "image/png": "[encoded data removed]",
      "text/plain": [
       "<Figure size 640x480 with 1 Axes>"
      ]
     },
     "metadata": {},
     "output_type": "display_data"
    }
   ],
   "source": [
    "df_items.groupby(\"PID\").mean().Self_Danger_Time.hist(range=(0,60), bins=30, alpha=.5)\n",
    "df_items.groupby(\"PID\").mean().Other_Danger_Time.hist(range=(0,60), bins=30, alpha=.5)\n",
    "df_items.groupby(\"PID\").mean().Robot_Danger_Time.hist(range=(0,60), bins=30, alpha=.5)\n",
    "plt.xlim(0,60)\n",
    "plt.show()"
   ]
  },
  {
   "cell_type": "code",
   "execution_count": 50,
   "metadata": {},
   "outputs": [
    {
     "data": {
      "text/plain": [
       "3000"
      ]
     },
     "execution_count": 50,
     "metadata": {},
     "output_type": "execute_result"
    }
   ],
   "source": [
    "len(df_items)"
   ]
  },
  {
   "cell_type": "code",
   "execution_count": 51,
   "metadata": {},
   "outputs": [],
   "source": [
    "df_items.Self_Familiar = df_items.Self_Familiar.astype(int)\n",
    "df_items.Self_Danger = df_items.Self_Danger.astype(int)\n",
    "df_items.Other_Danger = df_items.Other_Danger.astype(int)\n",
    "df_items.Robot_Danger = df_items.Robot_Danger.astype(int)"
   ]
  },
  {
   "cell_type": "markdown",
   "metadata": {},
   "source": [
    "## Wide to Long (Tables needed for R-Analysis)"
   ]
  },
  {
   "cell_type": "code",
   "execution_count": 52,
   "metadata": {},
   "outputs": [],
   "source": [
    "df.loc[df.cooking_frequency.isnull(), 'cooking_frequency'] = 0"
   ]
  },
  {
   "cell_type": "code",
   "execution_count": 53,
   "metadata": {},
   "outputs": [],
   "source": [
    "df_items = df_items.rename(columns={'Self_Danger': 'Danger_Self', 'Other_Danger': 'Danger_Other', 'Robot_Danger':'Danger_Robot'})\n",
    "dfX = pd.wide_to_long(df_items, stubnames=\"Danger\", i=['PID', 'Item'], j='Perspective', sep='_', suffix=r'\\w+').reset_index()[['PID', 'Item', 'Perspective', \"Danger\"]]\n",
    "dfX = pd.merge(dfX, df_items[['PID', 'Item','Self_Owning', 'Self_Familiar']], on=['PID', 'Item'])\n",
    "dfX = pd.merge(dfX, df[['PID', \"ATI\",'cooking_frequency', 'cooking_alone', 'cooking_together', 'cooking_expertise_1']], on=['PID'])\n",
    "dfX = dfX.rename(columns={'cooking_frequency': 'CookingFrequency', 'cooking_alone': 'CookingAlone', 'cooking_together':'CookingTogether', 'cooking_expertise_1': 'CookingExpertise', \"Self_Owning\":\"Owning\", \"Self_Familiar\":\"Familiar\"})"
   ]
  },
  {
   "cell_type": "markdown",
   "metadata": {},
   "source": [
    "# Export"
   ]
  },
  {
   "cell_type": "code",
   "execution_count": 54,
   "metadata": {},
   "outputs": [],
   "source": [
    "df_items.to_csv(\"./dataframes/surveydata_items.csv\", index=False)\n",
    "dfX.to_csv(\"./dataframes/R_Danger.csv\", index=False)"
   ]
  }
 ],
 "metadata": {
  "kernelspec": {
   "display_name": "Python 3 (ipykernel)",
   "language": "python",
   "name": "python3"
  },
  "language_info": {
   "codemirror_mode": {
    "name": "ipython",
    "version": 3
   },
   "file_extension": ".py",
   "mimetype": "text/x-python",
   "name": "python",
   "nbconvert_exporter": "python",
   "pygments_lexer": "ipython3",
   "version": "3.10.8"
  },
  "vscode": {
   "interpreter": {
    "hash": "48c9c5b7c5a9e607e5af6933e08fd4f6b26669cb61b809ca4e04bae73917c343"
   }
  }
 },
 "nbformat": 4,
 "nbformat_minor": 4
}
